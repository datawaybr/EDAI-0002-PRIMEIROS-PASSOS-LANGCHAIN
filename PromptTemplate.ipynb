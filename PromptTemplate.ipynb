{
 "cells": [
  {
   "cell_type": "code",
   "execution_count": 1,
   "metadata": {},
   "outputs": [],
   "source": [
    "from pprint import pprint"
   ]
  },
  {
   "cell_type": "code",
   "execution_count": 2,
   "metadata": {},
   "outputs": [
    {
     "data": {
      "text/plain": [
       "StringPromptValue(text='Me fale mais sobre Carros')"
      ]
     },
     "execution_count": 2,
     "metadata": {},
     "output_type": "execute_result"
    }
   ],
   "source": [
    "from langchain_core.prompts import PromptTemplate\n",
    "\n",
    "prompt_template = PromptTemplate.from_template(\"Me fale mais sobre {topico}\")\n",
    "\n",
    "prompt_template.invoke({\"topico\": \"Carros\"})"
   ]
  },
  {
   "cell_type": "code",
   "execution_count": 3,
   "metadata": {},
   "outputs": [
    {
     "name": "stdout",
     "output_type": "stream",
     "text": [
      "[SystemMessage(content='Você é um concierge', additional_kwargs={}, response_metadata={}),\n",
      " HumanMessage(content=' Preciso de ajuda com: Previsão do tempo', additional_kwargs={}, response_metadata={})]\n"
     ]
    }
   ],
   "source": [
    "from langchain_core.prompts import ChatPromptTemplate\n",
    "\n",
    "prompt_template = ChatPromptTemplate([\n",
    "    (\"system\", \"Você é um concierge\"),\n",
    "    (\"user\", \" Preciso de ajuda com: {topic}\")\n",
    "])\n",
    "\n",
    "pprint(prompt_template.invoke({\"topic\": \"Previsão do tempo\"}).to_messages())"
   ]
  },
  {
   "cell_type": "code",
   "execution_count": 4,
   "metadata": {},
   "outputs": [
    {
     "name": "stdout",
     "output_type": "stream",
     "text": [
      "[SystemMessage(content='Você é um concierge', additional_kwargs={}, response_metadata={}),\n",
      " HumanMessage(content='Preciso de ajuda com a previsão do tempo', additional_kwargs={}, response_metadata={}),\n",
      " HumanMessage(content='e também sobre o caminho mais rápido pro trabalho', additional_kwargs={}, response_metadata={})]\n"
     ]
    }
   ],
   "source": [
    "from langchain_core.prompts import ChatPromptTemplate, MessagesPlaceholder\n",
    "from langchain_core.messages import HumanMessage\n",
    "\n",
    "prompt_template = ChatPromptTemplate([\n",
    "    (\"system\", \"Você é um concierge\"),\n",
    "    MessagesPlaceholder(\"mensagens\")\n",
    "])\n",
    "\n",
    "mensagem = prompt_template.invoke({\"mensagens\": [HumanMessage(content=\"Preciso de ajuda com a previsão do tempo\"),HumanMessage(content=\"e também sobre o caminho mais rápido pro trabalho\")]})\n",
    "pprint(mensagem.to_messages())"
   ]
  },
  {
   "cell_type": "code",
   "execution_count": 5,
   "metadata": {},
   "outputs": [
    {
     "name": "stderr",
     "output_type": "stream",
     "text": [
      "/tmp/ipykernel_38381/763714013.py:30: LangChainDeprecationWarning: This class is deprecated. Please see the docstring below or at the link for a replacement option: https://python.langchain.com/api_reference/core/prompts/langchain_core.prompts.pipeline.PipelinePromptTemplate.html\n",
      "  pipeline = PipelinePromptTemplate(\n"
     ]
    },
    {
     "data": {
      "text/plain": [
       "['pergunta_exemplo', 'resposta_exemplo', 'profissao', 'pergunta']"
      ]
     },
     "execution_count": 5,
     "metadata": {},
     "output_type": "execute_result"
    }
   ],
   "source": [
    "from langchain_core.prompts import PipelinePromptTemplate, PromptTemplate\n",
    "\n",
    "template_completo = \"\"\"{introducao}\n",
    "\n",
    "{exemplo}\n",
    "\n",
    "{comeco}\"\"\"\n",
    "prompt_completo = PromptTemplate.from_template(template_completo)\n",
    "\n",
    "template_introducao = \"\"\"Você é um {profissao}.\"\"\"\n",
    "prompt_introducao = PromptTemplate.from_template(template_introducao)\n",
    "\n",
    "template_exemplo = \"\"\"Aqui está um exemplo de uma interação:\n",
    "\n",
    "P: {pergunta_exemplo}\n",
    "R: {resposta_exemplo}\"\"\"\n",
    "prompt_exemplo = PromptTemplate.from_template(template_exemplo)\n",
    "\n",
    "template_comeco = \"\"\"Agora responda a próxima pergunta\n",
    "\n",
    "P: {pergunta}\n",
    "R:\"\"\"\n",
    "prompt_comeco = PromptTemplate.from_template(template_comeco)\n",
    "\n",
    "prompts_entrada = [\n",
    "    (\"introducao\", prompt_introducao),\n",
    "    (\"exemplo\", prompt_exemplo),\n",
    "    (\"comeco\", prompt_comeco),\n",
    "]\n",
    "pipeline = PipelinePromptTemplate(\n",
    "    final_prompt=prompt_completo, pipeline_prompts=prompts_entrada\n",
    ")\n",
    "\n",
    "pipeline.input_variables"
   ]
  },
  {
   "cell_type": "code",
   "execution_count": 6,
   "metadata": {},
   "outputs": [
    {
     "name": "stdout",
     "output_type": "stream",
     "text": [
      "Você é um Cozinheiro.\n",
      "\n",
      "Aqui está um exemplo de uma interação:\n",
      "\n",
      "P: Qual a sua torta favorita?\n",
      "R: A torta de banana!\n",
      "\n",
      "Agora responda a próxima pergunta\n",
      "\n",
      "P: E qual é o seu bolo favorito?\n",
      "R:\n"
     ]
    }
   ],
   "source": [
    "print(\n",
    "    pipeline.format(\n",
    "        profissao=\"Cozinheiro\",\n",
    "        pergunta_exemplo=\"Qual a sua torta favorita?\",\n",
    "        resposta_exemplo=\"A torta de banana!\",\n",
    "        pergunta=\"E qual é o seu bolo favorito?\",\n",
    "    )\n",
    ")"
   ]
  },
  {
   "cell_type": "code",
   "execution_count": 7,
   "metadata": {},
   "outputs": [
    {
     "name": "stdout",
     "output_type": "stream",
     "text": [
      "[HumanMessage(content='Mensagem: Qual o meu saldo?', additional_kwargs={}, response_metadata={}),\n",
      " AIMessage(content='Categoria: Pergunta', additional_kwargs={}, response_metadata={}),\n",
      " HumanMessage(content='Mensagem: Quero fazer uma transferência', additional_kwargs={}, response_metadata={}),\n",
      " AIMessage(content='Categoria: Ação', additional_kwargs={}, response_metadata={})]\n"
     ]
    }
   ],
   "source": [
    "from langchain_core.prompts import ChatPromptTemplate, FewShotChatMessagePromptTemplate\n",
    "\n",
    "exemplos = [\n",
    "    {\"input\": \"Qual o meu saldo?\", \"output\": \"Pergunta\"},\n",
    "    {\"input\": \"Quero fazer uma transferência\", \"output\": \"Ação\"},\n",
    "]\n",
    "\n",
    "prompt_exemplos = ChatPromptTemplate.from_messages(\n",
    "    [\n",
    "        (\"human\", \"Mensagem: {input}\"),\n",
    "        (\"ai\", \"Categoria: {output}\"),\n",
    "    ]\n",
    ")\n",
    "few_shot_prompt = FewShotChatMessagePromptTemplate(\n",
    "    example_prompt=prompt_exemplos,\n",
    "    examples=exemplos,\n",
    ")\n",
    "\n",
    "pprint(few_shot_prompt.invoke({}).to_messages())"
   ]
  },
  {
   "cell_type": "code",
   "execution_count": 8,
   "metadata": {},
   "outputs": [
    {
     "name": "stdout",
     "output_type": "stream",
     "text": [
      "[SystemMessage(content='Você é um decisor que precisa classificar mensagens em duas categorias, pergunta ou ação', additional_kwargs={}, response_metadata={}),\n",
      " HumanMessage(content='Mensagem: Qual o meu saldo?', additional_kwargs={}, response_metadata={}),\n",
      " AIMessage(content='Categoria: Pergunta', additional_kwargs={}, response_metadata={}),\n",
      " HumanMessage(content='Mensagem: Quero fazer uma transferência', additional_kwargs={}, response_metadata={}),\n",
      " AIMessage(content='Categoria: Ação', additional_kwargs={}, response_metadata={}),\n",
      " HumanMessage(content='Preciso ver meu saldo', additional_kwargs={}, response_metadata={})]\n"
     ]
    }
   ],
   "source": [
    "final_prompt = ChatPromptTemplate.from_messages(\n",
    "    [\n",
    "        (\"system\", \"Você é um decisor que precisa classificar mensagens em duas categorias, pergunta ou ação\"),\n",
    "        few_shot_prompt,\n",
    "        (\"human\", \"{input}\"),\n",
    "    ]\n",
    ")\n",
    "pprint(final_prompt.invoke(\"Preciso ver meu saldo\").to_messages())"
   ]
  }
 ],
 "metadata": {
  "kernelspec": {
   "display_name": "cursolangchain-2sMNaNbo-py3.10",
   "language": "python",
   "name": "python3"
  },
  "language_info": {
   "codemirror_mode": {
    "name": "ipython",
    "version": 3
   },
   "file_extension": ".py",
   "mimetype": "text/x-python",
   "name": "python",
   "nbconvert_exporter": "python",
   "pygments_lexer": "ipython3",
   "version": "3.10.12"
  }
 },
 "nbformat": 4,
 "nbformat_minor": 2
}
