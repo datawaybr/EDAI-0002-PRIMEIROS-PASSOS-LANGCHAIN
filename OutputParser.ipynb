{
 "cells": [
  {
   "cell_type": "code",
   "execution_count": 1,
   "metadata": {},
   "outputs": [],
   "source": [
    "from langchain_openai import ChatOpenAI\n",
    "from dotenv import load_dotenv\n",
    "\n",
    "load_dotenv() \n",
    "\n",
    "llm = ChatOpenAI(model=\"gpt-4o-mini\")"
   ]
  },
  {
   "cell_type": "code",
   "execution_count": null,
   "metadata": {},
   "outputs": [
    {
     "data": {
      "text/plain": [
       "AIMessage(content='O prédio mais alto do mundo, até a minha última atualização em outubro de 2023, é o Burj Khalifa, localizado em Dubai, Emirados Árabes Unidos. Ele tem uma altura de 828 metros (2.717 pés) e foi inaugurado em 2010. Se precisar de informações mais recentes ou detalhes sobre outros arranha-céus, fique à vontade para perguntar!', additional_kwargs={'refusal': None}, response_metadata={'token_usage': {'completion_tokens': 82, 'prompt_tokens': 18, 'total_tokens': 100, 'completion_tokens_details': {'accepted_prediction_tokens': 0, 'audio_tokens': 0, 'reasoning_tokens': 0, 'rejected_prediction_tokens': 0}, 'prompt_tokens_details': {'audio_tokens': 0, 'cached_tokens': 0}}, 'model_name': 'gpt-4o-mini-2024-07-18', 'system_fingerprint': 'fp_0705bf87c0', 'finish_reason': 'stop', 'logprobs': None}, id='run-5f62c987-1d46-490c-b0f5-d5ac81d131f7-0', usage_metadata={'input_tokens': 18, 'output_tokens': 82, 'total_tokens': 100, 'input_token_details': {'audio': 0, 'cache_read': 0}, 'output_token_details': {'audio': 0, 'reasoning': 0}})"
      ]
     },
     "execution_count": 8,
     "metadata": {},
     "output_type": "execute_result"
    }
   ],
   "source": [
    "llm.invoke(\"Pode me dizer qual o prédio mais alto do mundo?\")"
   ]
  },
  {
   "cell_type": "code",
   "execution_count": 2,
   "metadata": {},
   "outputs": [
    {
     "data": {
      "text/plain": [
       "'O prédio mais alto do mundo, até a minha data de corte em outubro de 2023, é o Burj Khalifa, localizado em Dubai, nos Emirados Árabes Unidos. O Burj Khalifa tem uma altura de 828 metros (2.717 pés) e foi inaugurado em 2010. Ele é conhecido por sua arquitetura impressionante e por ser um marco icônico da cidade.'"
      ]
     },
     "execution_count": 2,
     "metadata": {},
     "output_type": "execute_result"
    }
   ],
   "source": [
    "from langchain_core.output_parsers import StrOutputParser\n",
    "llm_com_parser = llm | StrOutputParser()\n",
    "llm_com_parser.invoke(\"Pode me dizer qual o prédio mais alto do mundo?\")"
   ]
  },
  {
   "cell_type": "code",
   "execution_count": 3,
   "metadata": {},
   "outputs": [
    {
     "data": {
      "text/plain": [
       "Pessoa(nome='Paulo', idade=22, hobby='basquete')"
      ]
     },
     "execution_count": 3,
     "metadata": {},
     "output_type": "execute_result"
    }
   ],
   "source": [
    "from langchain_core.output_parsers import PydanticOutputParser\n",
    "from langchain_core.prompts import PromptTemplate\n",
    "\n",
    "from pydantic import BaseModel, Field\n",
    "\n",
    "class Pessoa(BaseModel):\n",
    "    nome: str = Field(description=\"nome da pessoa\")\n",
    "    idade: int = Field(description=\"idade da pessoa\")\n",
    "    hobby: str = Field(description=\"algo que a pessoa goste\")\n",
    "\n",
    "parser_pydantic = PydanticOutputParser(pydantic_object=Pessoa)\n",
    "\n",
    "prompt = PromptTemplate(\n",
    "    template=\"Formate adequadamente o texto enviado.\\n{format_instructions}\\n{texto}\\n\",\n",
    "    input_variables=[\"texto\"],\n",
    "    partial_variables={\"format_instructions\": parser_pydantic.get_format_instructions()},\n",
    ")\n",
    "\n",
    "chain = prompt | llm | parser_pydantic\n",
    "output = chain.invoke({\"texto\": \"Paulo é um homem de 22 anos que gosta de basquete\"})\n",
    "output\n"
   ]
  },
  {
   "cell_type": "code",
   "execution_count": 4,
   "metadata": {},
   "outputs": [],
   "source": [
    "from typing import List\n",
    "\n",
    "class Lista(BaseModel):\n",
    "    \"\"\"Lista de informações sobre pessoas\"\"\"\n",
    "\n",
    "    people: List[Pessoa]   "
   ]
  },
  {
   "cell_type": "code",
   "execution_count": null,
   "metadata": {},
   "outputs": [
    {
     "data": {
      "text/plain": [
       "Lista(people=[Pessoa(nome='Paulo', idade=22, hobby='basquete'), Pessoa(nome='Carla', idade=31, hobby='Formula 1')])"
      ]
     },
     "execution_count": 29,
     "metadata": {},
     "output_type": "execute_result"
    }
   ],
   "source": [
    "parser_pydantic = PydanticOutputParser(pydantic_object=Lista)\n",
    "\n",
    "prompt = PromptTemplate(\n",
    "    template=\"Formate adequadamente o texto enviado.\\n{format_instructions}\\n{texto}\\n\",\n",
    "    input_variables=[\"texto\"],\n",
    "    partial_variables={\"format_instructions\": parser_pydantic.get_format_instructions()},\n",
    ")\n",
    "\n",
    "# And a query intended to prompt a language model to populate the data structure.\n",
    "chain = prompt | llm | parser_pydantic\n",
    "output = chain.invoke({\"texto\": \"Paulo é tem 22 anos, gosta de basquete e a Carla é tem 31 anos e gosta de Formula 1\"})\n",
    "output"
   ]
  },
  {
   "cell_type": "code",
   "execution_count": 5,
   "metadata": {},
   "outputs": [],
   "source": [
    "from langchain_core.prompts import ChatPromptTemplate\n",
    "\n",
    "prompt = ChatPromptTemplate.from_messages(\n",
    "    [\n",
    "        (\n",
    "            \"system\",\n",
    "            \"You are a helpful assistant. Answer all questions to the best of your ability.\",\n",
    "        ),\n",
    "        (\"placeholder\", \"{chat_history}\"),\n",
    "        (\"human\", \"{input}\"),\n",
    "    ]\n",
    ")"
   ]
  },
  {
   "cell_type": "code",
   "execution_count": 6,
   "metadata": {},
   "outputs": [],
   "source": [
    "from langchain_core.runnables.history import RunnableWithMessageHistory\n",
    "from langchain_community.chat_message_histories import ChatMessageHistory\n",
    "\n",
    "chat_history = ChatMessageHistory()\n",
    "\n",
    "chain_memoria = RunnableWithMessageHistory(\n",
    "    prompt | llm,\n",
    "    lambda session_id: chat_history,\n",
    "    input_messages_key=\"input\",\n",
    "    history_messages_key=\"chat_history\",\n",
    ")"
   ]
  },
  {
   "cell_type": "code",
   "execution_count": null,
   "metadata": {},
   "outputs": [
    {
     "data": {
      "text/plain": [
       "AIMessage(content='Olá!  Como posso ajudar?\\n', additional_kwargs={}, response_metadata={'prompt_feedback': {'block_reason': 0, 'safety_ratings': []}, 'finish_reason': 'STOP', 'safety_ratings': []}, id='run-e5004cff-8c24-4615-ad17-ac677054b2a1-0', usage_metadata={'input_tokens': 18, 'output_tokens': 8, 'total_tokens': 26, 'input_token_details': {'cache_read': 0}})"
      ]
     },
     "execution_count": 35,
     "metadata": {},
     "output_type": "execute_result"
    }
   ],
   "source": [
    "chain_memoria.invoke(\n",
    "    {\"input\": \"Olá\"},\n",
    "    {\"configurable\": {\"session_id\": \"unused\"}},\n",
    ")"
   ]
  },
  {
   "cell_type": "code",
   "execution_count": null,
   "metadata": {},
   "outputs": [
    {
     "data": {
      "text/plain": [
       "AIMessage(content='Sua última mensagem foi \"Olá\".\\n', additional_kwargs={}, response_metadata={'prompt_feedback': {'block_reason': 0, 'safety_ratings': []}, 'finish_reason': 'STOP', 'safety_ratings': []}, id='run-0d384d35-aea7-4510-923e-5756a2ca9ef9-0', usage_metadata={'input_tokens': 35, 'output_tokens': 8, 'total_tokens': 43, 'input_token_details': {'cache_read': 0}})"
      ]
     },
     "execution_count": 36,
     "metadata": {},
     "output_type": "execute_result"
    }
   ],
   "source": [
    "chain_memoria.invoke(\n",
    "    {\"input\": \"Qual foi a minha ultima mensagem?\"},\n",
    "    {\"configurable\": {\"session_id\": \"unused\"}},\n",
    ")"
   ]
  },
  {
   "cell_type": "code",
   "execution_count": null,
   "metadata": {},
   "outputs": [],
   "source": [
    "response = chain_memoria.invoke(\n",
    "    {\"input\": \"Ah ok, muito obrigado!\"},\n",
    "    {\"configurable\": {\"session_id\": \"unused\"}},\n",
    ")"
   ]
  }
 ],
 "metadata": {
  "kernelspec": {
   "display_name": "cursolangchain-2sMNaNbo-py3.10",
   "language": "python",
   "name": "python3"
  },
  "language_info": {
   "codemirror_mode": {
    "name": "ipython",
    "version": 3
   },
   "file_extension": ".py",
   "mimetype": "text/x-python",
   "name": "python",
   "nbconvert_exporter": "python",
   "pygments_lexer": "ipython3",
   "version": "3.10.12"
  }
 },
 "nbformat": 4,
 "nbformat_minor": 2
}
