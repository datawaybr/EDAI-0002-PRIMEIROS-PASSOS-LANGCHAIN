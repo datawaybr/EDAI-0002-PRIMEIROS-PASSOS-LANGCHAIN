{
 "cells": [
  {
   "cell_type": "code",
   "execution_count": 1,
   "metadata": {},
   "outputs": [],
   "source": [
    "from langchain_openai import ChatOpenAI\n",
    "from langchain_core.output_parsers import StrOutputParser\n",
    "from langchain_core.prompts import ChatPromptTemplate\n",
    "from dotenv import load_dotenv\n",
    "\n",
    "load_dotenv() \n",
    "\n",
    "llm = ChatOpenAI(model=\"gpt-4o-mini\")"
   ]
  },
  {
   "cell_type": "code",
   "execution_count": 3,
   "metadata": {},
   "outputs": [
    {
     "data": {
      "text/plain": [
       "'Claro! Aqui vai uma:\\n\\nPor que o gato foi ao médico?\\n\\nPorque ele estava com um \"miado\" na garganta! 😺'"
      ]
     },
     "execution_count": 3,
     "metadata": {},
     "output_type": "execute_result"
    }
   ],
   "source": [
    "prompt = ChatPromptTemplate.from_template(\"Me conte uma piada sobre {topico}\")\n",
    "prompt_pronto = prompt.invoke(\"animais\")\n",
    "resposta = llm.invoke(prompt_pronto)\n",
    "StrOutputParser().invoke(resposta)"
   ]
  },
  {
   "cell_type": "code",
   "execution_count": 4,
   "metadata": {},
   "outputs": [
    {
     "data": {
      "text/plain": [
       "'Claro! Aqui vai uma:\\n\\nPor que o cachorro entrou na igreja?\\n\\nPorque ele queria encontrar um \"pastor\"! 🐶✝️'"
      ]
     },
     "execution_count": 4,
     "metadata": {},
     "output_type": "execute_result"
    }
   ],
   "source": [
    "chain = prompt | llm | StrOutputParser()\n",
    "chain.invoke(\"animais\")"
   ]
  },
  {
   "cell_type": "code",
   "execution_count": 5,
   "metadata": {},
   "outputs": [
    {
     "data": {
      "text/plain": [
       "'por que o gato se sentou no computador?\\n\\nporque ele queria ficar perto do mouse! 🐱🖱️'"
      ]
     },
     "execution_count": 5,
     "metadata": {},
     "output_type": "execute_result"
    }
   ],
   "source": [
    "chain = prompt | llm | StrOutputParser() | (lambda x: x.lower())\n",
    "chain.invoke(\"animais\")"
   ]
  },
  {
   "cell_type": "code",
   "execution_count": 2,
   "metadata": {},
   "outputs": [
    {
     "data": {
      "text/plain": [
       "'Ford Model T revolucionou indústria automobilística.'"
      ]
     },
     "execution_count": 2,
     "metadata": {},
     "output_type": "execute_result"
    }
   ],
   "source": [
    "from langchain_core.runnables import RunnablePassthrough\n",
    "\n",
    "prompt_gerador = ChatPromptTemplate.from_template(\"Conte um fato curioso sobre {topico}\")\n",
    "prompt_condensador = ChatPromptTemplate.from_template(\"Resuma o texto em cinco palavras: {texto}\")\n",
    "chain_geradora = prompt_gerador | llm | StrOutputParser()\n",
    "chain_condensadora = prompt_condensador | llm | StrOutputParser()\n",
    "\n",
    "chain_completa = chain_geradora | chain_condensadora\n",
    "chain_completa.invoke(\"Carros\")"
   ]
  },
  {
   "cell_type": "code",
   "execution_count": 7,
   "metadata": {},
   "outputs": [
    {
     "name": "stdout",
     "output_type": "stream",
     "text": [
      "Um fato curioso sobre carros é que o primeiro automóvel movido a gasolina foi inventado em 1885 pelo engenheiro alemão Karl Benz. O veículo, chamado Benz Patent-Motorwagen, tinha apenas três rodas e um motor de um cilindro, e sua velocidade máxima era de cerca de 16 km/h. Apesar de suas limitações, esse carro é considerado o precursor dos automóveis modernos e marcou o início da indústria automotiva. O interessante é que, embora hoje os carros sejam símbolos de liberdade e avanço tecnológico, o primeiro carro enfrentou muita resistência e ceticismo, com muitas pessoas acreditando que veículos motorizados nunca seriam práticos ou seguros.\n"
     ]
    },
    {
     "data": {
      "text/plain": [
       "'Sem conteúdo para resumir.'"
      ]
     },
     "execution_count": 7,
     "metadata": {},
     "output_type": "execute_result"
    }
   ],
   "source": [
    "chain_completa_com_print = chain_geradora | (lambda x: print(x)) |chain_condensadora\n",
    "chain_completa_com_print.invoke(\"Carros\")"
   ]
  },
  {
   "cell_type": "code",
   "execution_count": 8,
   "metadata": {},
   "outputs": [
    {
     "name": "stdout",
     "output_type": "stream",
     "text": [
      "Um fato curioso sobre carros é que o primeiro carro movido a gasolina foi criado em 1885 por Karl Benz, e era chamado de Benz Patent-Motorwagen. O veículo tinha três rodas, um motor de combustão interna de um cilindro e alcançava uma velocidade máxima de cerca de 16 km/h. Curiosamente, o primeiro \"motorista\" do mundo foi a esposa de Karl Benz, Bertha Benz, que fez uma viagem histórica de mais de 100 km com o carro para mostrar sua viabilidade, sem o conhecimento do marido. Essa viagem ajudou a provar a eficácia do veículo e contribuiu para a sua aceitação pública.\n"
     ]
    },
    {
     "data": {
      "text/plain": [
       "'Primeiro carro foi criado em 1885.'"
      ]
     },
     "execution_count": 8,
     "metadata": {},
     "output_type": "execute_result"
    }
   ],
   "source": [
    "chain_completa_paralela = chain_geradora | {\"funcao\" :(lambda x: print(x)), \"texto\": RunnablePassthrough()} | chain_condensadora\n",
    "chain_completa_paralela.invoke(\"Carros\")"
   ]
  }
 ],
 "metadata": {
  "kernelspec": {
   "display_name": "cursolangchain-2sMNaNbo-py3.10",
   "language": "python",
   "name": "python3"
  },
  "language_info": {
   "codemirror_mode": {
    "name": "ipython",
    "version": 3
   },
   "file_extension": ".py",
   "mimetype": "text/x-python",
   "name": "python",
   "nbconvert_exporter": "python",
   "pygments_lexer": "ipython3",
   "version": "3.10.12"
  }
 },
 "nbformat": 4,
 "nbformat_minor": 2
}
