{
 "cells": [
  {
   "cell_type": "code",
   "execution_count": 1,
   "metadata": {},
   "outputs": [
    {
     "data": {
      "text/plain": [
       "True"
      ]
     },
     "execution_count": 1,
     "metadata": {},
     "output_type": "execute_result"
    }
   ],
   "source": [
    "from langchain_openai import ChatOpenAI\n",
    "from dotenv import load_dotenv\n",
    "\n",
    "load_dotenv() "
   ]
  },
  {
   "cell_type": "code",
   "execution_count": null,
   "metadata": {},
   "outputs": [],
   "source": [
    "from langchain_groq import ChatGroq\n",
    "\n",
    "model = ChatGroq(model=\"llama3-8b-8192\")\n",
    "\n",
    "from langchain_google_vertexai import ChatVertexAI\n",
    "\n",
    "model = ChatVertexAI(model=\"gemini-1.5-flash\")"
   ]
  },
  {
   "cell_type": "code",
   "execution_count": 3,
   "metadata": {},
   "outputs": [],
   "source": [
    "model = \"gpt-4o-mini\"\n",
    "temperature = 1\n",
    "top_p = 1\n",
    "top_k = 1\n",
    "max_tokens = 200\n",
    "stop = \"\\n\\n\""
   ]
  },
  {
   "cell_type": "code",
   "execution_count": 4,
   "metadata": {},
   "outputs": [],
   "source": [
    "llm = ChatOpenAI(model=model,temperature=temperature,top_p=top_p, max_tokens=max_tokens, stop_sequences=stop)"
   ]
  },
  {
   "cell_type": "code",
   "execution_count": 5,
   "metadata": {},
   "outputs": [
    {
     "data": {
      "text/plain": [
       "AIMessage(content='Olá! Como posso ajudar você hoje?', additional_kwargs={'refusal': None}, response_metadata={'token_usage': {'completion_tokens': 8, 'prompt_tokens': 8, 'total_tokens': 16, 'completion_tokens_details': {'accepted_prediction_tokens': 0, 'audio_tokens': 0, 'reasoning_tokens': 0, 'rejected_prediction_tokens': 0}, 'prompt_tokens_details': {'audio_tokens': 0, 'cached_tokens': 0}}, 'model_name': 'gpt-4o-mini-2024-07-18', 'system_fingerprint': 'fp_72ed7ab54c', 'finish_reason': 'stop', 'logprobs': None}, id='run-63755646-3a06-4136-bae1-24df28c8538f-0', usage_metadata={'input_tokens': 8, 'output_tokens': 8, 'total_tokens': 16, 'input_token_details': {'audio': 0, 'cache_read': 0}, 'output_token_details': {'audio': 0, 'reasoning': 0}})"
      ]
     },
     "execution_count": 5,
     "metadata": {},
     "output_type": "execute_result"
    }
   ],
   "source": [
    "llm.invoke(\"Olá\")"
   ]
  },
  {
   "cell_type": "code",
   "execution_count": 6,
   "metadata": {},
   "outputs": [
    {
     "name": "stdout",
     "output_type": "stream",
     "text": [
      "Entre árvores e risos do vento,  \n",
      "Flores dançam em suave momento.  \n",
      "Rios sussurros, segredos do chão,  \n",
      "Cantos de vida na imensidão.  \n",
      "\n",
      "O sol, pincel que pinta o céu,  \n",
      "Desperta cores em um doce véu.  \n",
      "As montanhas guardam histórias mil,  \n",
      "E a lua, vigilante, é um sonho sutil.  \n",
      "\n",
      "Natureza viva, abraço sereno,  \n",
      "Em ti encontrei o amor pleno.  \n",
      "Teus braços verdes, minha paz,  \n",
      "Neste mundo, onde a beleza se faz.\n"
     ]
    }
   ],
   "source": [
    "llm_temperatura1 = ChatOpenAI(model=model,temperature=1)\n",
    "response = llm_temperatura1.invoke(\"Pode me escrever um poema curto sobre a natureza?\")\n",
    "print(response.content)"
   ]
  },
  {
   "cell_type": "code",
   "execution_count": 7,
   "metadata": {},
   "outputs": [
    {
     "name": "stdout",
     "output_type": "stream",
     "text": [
      "No susurro do vento leve,  \n",
      "Dança a folha em seu cair,  \n",
      "O riacho canta em versos,  \n",
      "A vida a fluir, a existir.\n",
      "\n",
      "Montanhas guardam segredos,  \n",
      "Céu pintado em tons de azul,  \n",
      "Cada flor é um pequeno sonho,  \n",
      "A natureza, nosso altar, o seu sul.  \n",
      "\n",
      "Em cada canto, um milagre,  \n",
      "Do sol ao brilho da lua,  \n",
      "A beleza que nos envolve,  \n",
      "A eternidade que continua.\n"
     ]
    }
   ],
   "source": [
    "response = llm_temperatura1.invoke(\"Pode me escrever um poema curto sobre a natureza?\")\n",
    "print(response.content)"
   ]
  },
  {
   "cell_type": "code",
   "execution_count": 8,
   "metadata": {},
   "outputs": [
    {
     "name": "stdout",
     "output_type": "stream",
     "text": [
      "Claro! Aqui está um poema curto sobre a natureza:\n",
      "\n",
      "No sussurro do vento, a floresta canta,  \n",
      "Rios dançam livres, em sua eterna encantança.  \n",
      "Montanhas guardiãs, de histórias milenares,  \n",
      "Flores desabrocham, em milari de altares.\n",
      "\n",
      "O sol se despede, tingindo o céu de ouro,  \n",
      "A lua se ergue, em seu manto de tesouro.  \n",
      "Na harmonia do mundo, a vida se revela,  \n",
      "Natureza, poesia, em cada centelha.\n"
     ]
    }
   ],
   "source": [
    "llm_temperatura1_topp01 = ChatOpenAI(model=model,temperature=1, top_p=0.01)\n",
    "response = llm_temperatura1_topp01.invoke(\"Pode me escrever um poema curto sobre a natureza?\")\n",
    "print(response.content)"
   ]
  },
  {
   "cell_type": "code",
   "execution_count": 9,
   "metadata": {},
   "outputs": [
    {
     "name": "stdout",
     "output_type": "stream",
     "text": [
      "Claro! Aqui está um poema curto sobre a natureza:\n",
      "\n",
      "No sussurro do vento, a árvore dança,  \n",
      "Rios cantando, em suave esperança.  \n",
      "Flores despertam, cores a brilhar,  \n",
      "A natureza, um quadro a encantar.\n",
      "\n",
      "Montanhas guardam segredos antigos,  \n",
      "Céu estrelado, sonhos e abrigo.  \n",
      "Em cada folha, um verso a se ouvir,  \n",
      "Na harmonia do mundo, é bom existir.\n"
     ]
    }
   ],
   "source": [
    "response = llm_temperatura1_topp01.invoke(\"Pode me escrever um poema curto sobre a natureza?\")\n",
    "print(response.content)"
   ]
  },
  {
   "cell_type": "code",
   "execution_count": 10,
   "metadata": {},
   "outputs": [
    {
     "name": "stdout",
     "output_type": "stream",
     "text": [
      "Claro! Aqui está um poema curto sobre a natureza:\n",
      "\n",
      "No sussurro do vento, a árvore dança,  \n",
      "Rios cantando, em suave esperança.  \n",
      "Flores despertam, cores a brilhar,  \n",
      "A natureza, um quadro a encantar.\n",
      "\n",
      "Montanhas guardam segredos antigos,  \n",
      "Céu estrelado, sonhos e abrigo.  \n",
      "Em cada folha, um verso a se ouvir,  \n",
      "Na sinfonia da vida, vamos nos unir.\n"
     ]
    }
   ],
   "source": [
    "llm_temperatura0 = ChatOpenAI(model=model,temperature=0)\n",
    "response = llm_temperatura0.invoke(\"Pode me escrever um poema curto sobre a natureza?\")\n",
    "print(response.content)"
   ]
  },
  {
   "cell_type": "code",
   "execution_count": 11,
   "metadata": {},
   "outputs": [
    {
     "name": "stdout",
     "output_type": "stream",
     "text": [
      "Claro! Aqui está um poema curto sobre a natureza:\n",
      "\n",
      "No sussurro do vento, a árvore dança,  \n",
      "Rios cantando, em suave esperança.  \n",
      "Flores despertam, cores a brilhar,  \n",
      "A natureza, um quadro a encantar.\n",
      "\n",
      "Montanhas guardam segredos antigos,  \n",
      "Céu estrelado, sonhos e abrigo.  \n",
      "Em cada folha, um verso a brotar,  \n",
      "Na sinfonia da vida, vamos nos encontrar.\n"
     ]
    }
   ],
   "source": [
    "response = llm_temperatura0.invoke(\"Pode me escrever um poema curto sobre a natureza?\")\n",
    "print(response.content)"
   ]
  },
  {
   "cell_type": "code",
   "execution_count": 12,
   "metadata": {},
   "outputs": [
    {
     "name": "stdout",
     "output_type": "stream",
     "text": [
      "Os \n"
     ]
    }
   ],
   "source": [
    "llm = ChatOpenAI(model=model,stop=\"repolho\")\n",
    "response = llm.invoke(\"O que você pode me dizer sobre repolhos?\")\n",
    "print(response.content)"
   ]
  },
  {
   "cell_type": "code",
   "execution_count": null,
   "metadata": {},
   "outputs": [],
   "source": []
  }
 ],
 "metadata": {
  "kernelspec": {
   "display_name": "cursolangchain-2sMNaNbo-py3.10",
   "language": "python",
   "name": "python3"
  },
  "language_info": {
   "codemirror_mode": {
    "name": "ipython",
    "version": 3
   },
   "file_extension": ".py",
   "mimetype": "text/x-python",
   "name": "python",
   "nbconvert_exporter": "python",
   "pygments_lexer": "ipython3",
   "version": "3.10.12"
  }
 },
 "nbformat": 4,
 "nbformat_minor": 2
}
