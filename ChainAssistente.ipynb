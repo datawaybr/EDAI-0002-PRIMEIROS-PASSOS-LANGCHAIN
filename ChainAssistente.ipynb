{
 "cells": [
  {
   "cell_type": "code",
   "execution_count": 1,
   "metadata": {},
   "outputs": [],
   "source": [
    "from langchain_openai import ChatOpenAI\n",
    "from langchain_core.output_parsers import StrOutputParser\n",
    "from langchain_core.prompts import ChatPromptTemplate\n",
    "import requests\n",
    "from dotenv import load_dotenv\n",
    "\n",
    "load_dotenv() \n",
    "\n",
    "\n",
    "llm = ChatOpenAI(model=\"gpt-4o-mini\")"
   ]
  },
  {
   "cell_type": "code",
   "execution_count": 2,
   "metadata": {},
   "outputs": [],
   "source": [
    "prompt = ChatPromptTemplate.from_template(\"\"\"O usuário está buscando informações sobre o clima de um determinado lugar, extraia da mensagem dele apenas o lugar de interesse.\n",
    "                                          Mensagem: {mensagem}\"\"\")"
   ]
  },
  {
   "cell_type": "code",
   "execution_count": 3,
   "metadata": {},
   "outputs": [],
   "source": [
    "cidade_latlon = {\"Guaratuba\":[-25.88055638531835, -48.57584844726812], \"São Paulo\":[-23.552095602314147, -46.637115778597305]}"
   ]
  },
  {
   "cell_type": "code",
   "execution_count": 4,
   "metadata": {},
   "outputs": [],
   "source": [
    "def temperatura(cidade:str):\n",
    "\n",
    "    lista = cidade_latlon.get(cidade)\n",
    "    lat,lon = lista[0],lista[1]\n",
    "    response = requests.get(\n",
    "    f'https://api.open-meteo.com/v1/forecast?latitude={lat}&longitude={lon}&current=temperature_2m&hourly=temperature_2m',\n",
    ")\n",
    "    return response.json()"
   ]
  },
  {
   "cell_type": "code",
   "execution_count": 5,
   "metadata": {},
   "outputs": [],
   "source": [
    "prompt_assistente = ChatPromptTemplate.from_template(\"\"\"Você é um assistente pessoal que tem o objetivo de facilitar a vida do seu usuário.\n",
    "                                          Responda sempre com leveza e dê informações que sejam úteis.\n",
    "                                          Clima: {clima}\n",
    "                                          Local: {local}\n",
    "                                          Mensagem: {mensagem}\"\"\")"
   ]
  },
  {
   "cell_type": "code",
   "execution_count": 6,
   "metadata": {},
   "outputs": [
    {
     "name": "stdout",
     "output_type": "stream",
     "text": [
      "Olá! Em Guaratuba, neste momento, a temperatura está em torno de **27°C**. O clima parece estar bem agradável, mas se você é sensível a temperaturas mais frescas, um casaco leve pode ser uma boa ideia, especialmente se você planeja ficar ao ar livre por um tempo. Se precisar de mais alguma coisa, é só avisar! 😊\n"
     ]
    }
   ],
   "source": [
    "extrair_local = prompt | llm | StrOutputParser()\n",
    "conversa = prompt_assistente | llm | StrOutputParser()\n",
    "\n",
    "def chain_completa(mensagem: str):\n",
    "    local = extrair_local.invoke(mensagem)\n",
    "    response = conversa.invoke({\"clima\": temperatura(local), \"local\": local,\n",
    "                                \"mensagem\":mensagem})\n",
    "    return response\n",
    "\n",
    "print(chain_completa(\"Como está o clima em Guaratuba? Preciso de um casaco para sair agora?\"))\n"
   ]
  },
  {
   "cell_type": "code",
   "execution_count": 7,
   "metadata": {},
   "outputs": [
    {
     "name": "stdout",
     "output_type": "stream",
     "text": [
      "Oi! Que delícia saber que você está indo para São Paulo! Hoje, a temperatura está bem agradável por lá, em torno de 24.4°C. Então, é uma boa ideia dar uma leveza no seu look! Se você gosta de conforto, uma blusa leve pode ser uma ótima escolha. Assim, você fica preparado para qualquer mudança de temperatura durante o dia. Aproveite sua viagem! 🌞✨\n"
     ]
    }
   ],
   "source": [
    "print(chain_completa(\"Estou indo para São Paulo hoje, aqui onde estou está bem frio, continuo com as blusas ou devo mudar?\"))"
   ]
  }
 ],
 "metadata": {
  "kernelspec": {
   "display_name": "cursolangchain-2sMNaNbo-py3.10",
   "language": "python",
   "name": "python3"
  },
  "language_info": {
   "codemirror_mode": {
    "name": "ipython",
    "version": 3
   },
   "file_extension": ".py",
   "mimetype": "text/x-python",
   "name": "python",
   "nbconvert_exporter": "python",
   "pygments_lexer": "ipython3",
   "version": "3.10.12"
  }
 },
 "nbformat": 4,
 "nbformat_minor": 2
}
